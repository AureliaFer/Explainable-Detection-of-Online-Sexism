{
  "cells": [
    {
      "cell_type": "code",
      "execution_count": 28,
      "metadata": {
        "colab": {
          "base_uri": "https://localhost:8080/"
        },
        "id": "buxOJK607Ezc",
        "outputId": "dd36e6f7-4c06-45c9-8cc9-541579c029fa"
      },
      "outputs": [
        {
          "output_type": "stream",
          "name": "stdout",
          "text": [
            "Requirement already satisfied: torch in /usr/local/lib/python3.10/dist-packages (2.0.1+cu118)\n",
            "Requirement already satisfied: filelock in /usr/local/lib/python3.10/dist-packages (from torch) (3.12.2)\n",
            "Requirement already satisfied: typing-extensions in /usr/local/lib/python3.10/dist-packages (from torch) (4.7.1)\n",
            "Requirement already satisfied: sympy in /usr/local/lib/python3.10/dist-packages (from torch) (1.12)\n",
            "Requirement already satisfied: networkx in /usr/local/lib/python3.10/dist-packages (from torch) (3.1)\n",
            "Requirement already satisfied: jinja2 in /usr/local/lib/python3.10/dist-packages (from torch) (3.1.2)\n",
            "Requirement already satisfied: triton==2.0.0 in /usr/local/lib/python3.10/dist-packages (from torch) (2.0.0)\n",
            "Requirement already satisfied: cmake in /usr/local/lib/python3.10/dist-packages (from triton==2.0.0->torch) (3.27.2)\n",
            "Requirement already satisfied: lit in /usr/local/lib/python3.10/dist-packages (from triton==2.0.0->torch) (16.0.6)\n",
            "Requirement already satisfied: MarkupSafe>=2.0 in /usr/local/lib/python3.10/dist-packages (from jinja2->torch) (2.1.3)\n",
            "Requirement already satisfied: mpmath>=0.19 in /usr/local/lib/python3.10/dist-packages (from sympy->torch) (1.3.0)\n",
            "Requirement already satisfied: emoji in /usr/local/lib/python3.10/dist-packages (2.8.0)\n",
            "Requirement already satisfied: tweet-preprocessor in /usr/local/lib/python3.10/dist-packages (0.6.0)\n",
            "Requirement already satisfied: transformers in /usr/local/lib/python3.10/dist-packages (4.32.1)\n",
            "Requirement already satisfied: accelerate in /usr/local/lib/python3.10/dist-packages (0.22.0)\n",
            "Requirement already satisfied: filelock in /usr/local/lib/python3.10/dist-packages (from transformers) (3.12.2)\n",
            "Requirement already satisfied: huggingface-hub<1.0,>=0.15.1 in /usr/local/lib/python3.10/dist-packages (from transformers) (0.16.4)\n",
            "Requirement already satisfied: numpy>=1.17 in /usr/local/lib/python3.10/dist-packages (from transformers) (1.23.5)\n",
            "Requirement already satisfied: packaging>=20.0 in /usr/local/lib/python3.10/dist-packages (from transformers) (23.1)\n",
            "Requirement already satisfied: pyyaml>=5.1 in /usr/local/lib/python3.10/dist-packages (from transformers) (6.0.1)\n",
            "Requirement already satisfied: regex!=2019.12.17 in /usr/local/lib/python3.10/dist-packages (from transformers) (2023.6.3)\n",
            "Requirement already satisfied: requests in /usr/local/lib/python3.10/dist-packages (from transformers) (2.31.0)\n",
            "Requirement already satisfied: tokenizers!=0.11.3,<0.14,>=0.11.1 in /usr/local/lib/python3.10/dist-packages (from transformers) (0.13.3)\n",
            "Requirement already satisfied: safetensors>=0.3.1 in /usr/local/lib/python3.10/dist-packages (from transformers) (0.3.3)\n",
            "Requirement already satisfied: tqdm>=4.27 in /usr/local/lib/python3.10/dist-packages (from transformers) (4.66.1)\n",
            "Requirement already satisfied: psutil in /usr/local/lib/python3.10/dist-packages (from accelerate) (5.9.5)\n",
            "Requirement already satisfied: torch>=1.10.0 in /usr/local/lib/python3.10/dist-packages (from accelerate) (2.0.1+cu118)\n",
            "Requirement already satisfied: fsspec in /usr/local/lib/python3.10/dist-packages (from huggingface-hub<1.0,>=0.15.1->transformers) (2023.6.0)\n",
            "Requirement already satisfied: typing-extensions>=3.7.4.3 in /usr/local/lib/python3.10/dist-packages (from huggingface-hub<1.0,>=0.15.1->transformers) (4.7.1)\n",
            "Requirement already satisfied: sympy in /usr/local/lib/python3.10/dist-packages (from torch>=1.10.0->accelerate) (1.12)\n",
            "Requirement already satisfied: networkx in /usr/local/lib/python3.10/dist-packages (from torch>=1.10.0->accelerate) (3.1)\n",
            "Requirement already satisfied: jinja2 in /usr/local/lib/python3.10/dist-packages (from torch>=1.10.0->accelerate) (3.1.2)\n",
            "Requirement already satisfied: triton==2.0.0 in /usr/local/lib/python3.10/dist-packages (from torch>=1.10.0->accelerate) (2.0.0)\n",
            "Requirement already satisfied: cmake in /usr/local/lib/python3.10/dist-packages (from triton==2.0.0->torch>=1.10.0->accelerate) (3.27.2)\n",
            "Requirement already satisfied: lit in /usr/local/lib/python3.10/dist-packages (from triton==2.0.0->torch>=1.10.0->accelerate) (16.0.6)\n",
            "Requirement already satisfied: charset-normalizer<4,>=2 in /usr/local/lib/python3.10/dist-packages (from requests->transformers) (3.2.0)\n",
            "Requirement already satisfied: idna<4,>=2.5 in /usr/local/lib/python3.10/dist-packages (from requests->transformers) (3.4)\n",
            "Requirement already satisfied: urllib3<3,>=1.21.1 in /usr/local/lib/python3.10/dist-packages (from requests->transformers) (2.0.4)\n",
            "Requirement already satisfied: certifi>=2017.4.17 in /usr/local/lib/python3.10/dist-packages (from requests->transformers) (2023.7.22)\n",
            "Requirement already satisfied: MarkupSafe>=2.0 in /usr/local/lib/python3.10/dist-packages (from jinja2->torch>=1.10.0->accelerate) (2.1.3)\n",
            "Requirement already satisfied: mpmath>=0.19 in /usr/local/lib/python3.10/dist-packages (from sympy->torch>=1.10.0->accelerate) (1.3.0)\n",
            "Requirement already satisfied: scikit-learn in /usr/local/lib/python3.10/dist-packages (1.2.2)\n",
            "Requirement already satisfied: numpy>=1.17.3 in /usr/local/lib/python3.10/dist-packages (from scikit-learn) (1.23.5)\n",
            "Requirement already satisfied: scipy>=1.3.2 in /usr/local/lib/python3.10/dist-packages (from scikit-learn) (1.10.1)\n",
            "Requirement already satisfied: joblib>=1.1.1 in /usr/local/lib/python3.10/dist-packages (from scikit-learn) (1.3.2)\n",
            "Requirement already satisfied: threadpoolctl>=2.0.0 in /usr/local/lib/python3.10/dist-packages (from scikit-learn) (3.2.0)\n"
          ]
        },
        {
          "output_type": "stream",
          "name": "stderr",
          "text": [
            "[nltk_data] Downloading package punkt to /root/nltk_data...\n",
            "[nltk_data]   Package punkt is already up-to-date!\n"
          ]
        }
      ],
      "source": [
        "!pip install torch\n",
        "!pip install emoji\n",
        "!pip install tweet-preprocessor\n",
        "!pip install transformers accelerate\n",
        "!pip install scikit-learn\n",
        "\n",
        "import nltk\n",
        "nltk.download('punkt')\n",
        "\n",
        "import warnings\n",
        "warnings.filterwarnings(\"ignore\")"
      ]
    },
    {
      "cell_type": "code",
      "execution_count": 29,
      "metadata": {
        "id": "n6HA__PzOWDh"
      },
      "outputs": [],
      "source": [
        "import numpy as np\n",
        "import pandas as pd\n",
        "import emoji\n",
        "import re\n",
        "import preprocessor as p\n",
        "\n",
        "from sklearn.model_selection import train_test_split\n",
        "\n",
        "from sklearn.preprocessing import LabelEncoder\n",
        "import torch\n",
        "from torch.utils.data import Dataset\n",
        "from transformers import AutoTokenizer, AutoModelForSequenceClassification, Trainer, TrainingArguments\n",
        "from transformers import DebertaTokenizer, DebertaForSequenceClassification, Trainer, TrainingArguments\n",
        "from sklearn.metrics import accuracy_score, precision_recall_fscore_support\n",
        "from sklearn.metrics import classification_report"
      ]
    },
    {
      "cell_type": "code",
      "execution_count": 30,
      "metadata": {
        "id": "cRK3pg2AS2c6"
      },
      "outputs": [],
      "source": [
        "# Read the CSV file.\n",
        "dataColumns = ['id', 'text', 'label']\n",
        "train_df = pd.read_csv('/content/drive/MyDrive/Colab Notebooks/Masters thesis/train_all_tasks.csv', header=0)\n",
        "\n",
        "dev_df = pd.read_csv('/content/drive/MyDrive/Colab Notebooks/Masters thesis/dev_task_a_entries.csv',\n",
        "                  header=0)\n",
        "test_df = pd.read_csv('/content/drive/MyDrive/Colab Notebooks/Masters thesis/test_task_a_entries.csv',\n",
        "                  header=0)"
      ]
    },
    {
      "cell_type": "code",
      "execution_count": 31,
      "metadata": {
        "colab": {
          "base_uri": "https://localhost:8080/",
          "height": 206
        },
        "id": "HXaYky9fcYec",
        "outputId": "d60655c0-0a07-4b2f-9e39-87907829eb6e"
      },
      "outputs": [
        {
          "output_type": "execute_result",
          "data": {
            "text/plain": [
              "                  rewire_id  \\\n",
              "0   sexism2022_english-7358   \n",
              "1   sexism2022_english-2367   \n",
              "2   sexism2022_english-3073   \n",
              "3  sexism2022_english-14895   \n",
              "4   sexism2022_english-4118   \n",
              "\n",
              "                                                text label_sexist  \\\n",
              "0              Damn, this writing was pretty chaotic   not sexist   \n",
              "1  Yeah, and apparently a bunch of misogynistic v...   not sexist   \n",
              "2       How the FUCK is this woman still an MP!!!???   not sexist   \n",
              "3  Understand. Know you're right. At same time I ...   not sexist   \n",
              "4     Surprized they didn't stop and rape some women   not sexist   \n",
              "\n",
              "  label_category label_vector  \n",
              "0           none         none  \n",
              "1           none         none  \n",
              "2           none         none  \n",
              "3           none         none  \n",
              "4           none         none  "
            ],
            "text/html": [
              "\n",
              "  <div id=\"df-f89eba9c-278d-4cb9-8454-16974f656f6e\" class=\"colab-df-container\">\n",
              "    <div>\n",
              "<style scoped>\n",
              "    .dataframe tbody tr th:only-of-type {\n",
              "        vertical-align: middle;\n",
              "    }\n",
              "\n",
              "    .dataframe tbody tr th {\n",
              "        vertical-align: top;\n",
              "    }\n",
              "\n",
              "    .dataframe thead th {\n",
              "        text-align: right;\n",
              "    }\n",
              "</style>\n",
              "<table border=\"1\" class=\"dataframe\">\n",
              "  <thead>\n",
              "    <tr style=\"text-align: right;\">\n",
              "      <th></th>\n",
              "      <th>rewire_id</th>\n",
              "      <th>text</th>\n",
              "      <th>label_sexist</th>\n",
              "      <th>label_category</th>\n",
              "      <th>label_vector</th>\n",
              "    </tr>\n",
              "  </thead>\n",
              "  <tbody>\n",
              "    <tr>\n",
              "      <th>0</th>\n",
              "      <td>sexism2022_english-7358</td>\n",
              "      <td>Damn, this writing was pretty chaotic</td>\n",
              "      <td>not sexist</td>\n",
              "      <td>none</td>\n",
              "      <td>none</td>\n",
              "    </tr>\n",
              "    <tr>\n",
              "      <th>1</th>\n",
              "      <td>sexism2022_english-2367</td>\n",
              "      <td>Yeah, and apparently a bunch of misogynistic v...</td>\n",
              "      <td>not sexist</td>\n",
              "      <td>none</td>\n",
              "      <td>none</td>\n",
              "    </tr>\n",
              "    <tr>\n",
              "      <th>2</th>\n",
              "      <td>sexism2022_english-3073</td>\n",
              "      <td>How the FUCK is this woman still an MP!!!???</td>\n",
              "      <td>not sexist</td>\n",
              "      <td>none</td>\n",
              "      <td>none</td>\n",
              "    </tr>\n",
              "    <tr>\n",
              "      <th>3</th>\n",
              "      <td>sexism2022_english-14895</td>\n",
              "      <td>Understand. Know you're right. At same time I ...</td>\n",
              "      <td>not sexist</td>\n",
              "      <td>none</td>\n",
              "      <td>none</td>\n",
              "    </tr>\n",
              "    <tr>\n",
              "      <th>4</th>\n",
              "      <td>sexism2022_english-4118</td>\n",
              "      <td>Surprized they didn't stop and rape some women</td>\n",
              "      <td>not sexist</td>\n",
              "      <td>none</td>\n",
              "      <td>none</td>\n",
              "    </tr>\n",
              "  </tbody>\n",
              "</table>\n",
              "</div>\n",
              "    <div class=\"colab-df-buttons\">\n",
              "\n",
              "  <div class=\"colab-df-container\">\n",
              "    <button class=\"colab-df-convert\" onclick=\"convertToInteractive('df-f89eba9c-278d-4cb9-8454-16974f656f6e')\"\n",
              "            title=\"Convert this dataframe to an interactive table.\"\n",
              "            style=\"display:none;\">\n",
              "\n",
              "  <svg xmlns=\"http://www.w3.org/2000/svg\" height=\"24px\" viewBox=\"0 -960 960 960\">\n",
              "    <path d=\"M120-120v-720h720v720H120Zm60-500h600v-160H180v160Zm220 220h160v-160H400v160Zm0 220h160v-160H400v160ZM180-400h160v-160H180v160Zm440 0h160v-160H620v160ZM180-180h160v-160H180v160Zm440 0h160v-160H620v160Z\"/>\n",
              "  </svg>\n",
              "    </button>\n",
              "\n",
              "  <style>\n",
              "    .colab-df-container {\n",
              "      display:flex;\n",
              "      gap: 12px;\n",
              "    }\n",
              "\n",
              "    .colab-df-convert {\n",
              "      background-color: #E8F0FE;\n",
              "      border: none;\n",
              "      border-radius: 50%;\n",
              "      cursor: pointer;\n",
              "      display: none;\n",
              "      fill: #1967D2;\n",
              "      height: 32px;\n",
              "      padding: 0 0 0 0;\n",
              "      width: 32px;\n",
              "    }\n",
              "\n",
              "    .colab-df-convert:hover {\n",
              "      background-color: #E2EBFA;\n",
              "      box-shadow: 0px 1px 2px rgba(60, 64, 67, 0.3), 0px 1px 3px 1px rgba(60, 64, 67, 0.15);\n",
              "      fill: #174EA6;\n",
              "    }\n",
              "\n",
              "    .colab-df-buttons div {\n",
              "      margin-bottom: 4px;\n",
              "    }\n",
              "\n",
              "    [theme=dark] .colab-df-convert {\n",
              "      background-color: #3B4455;\n",
              "      fill: #D2E3FC;\n",
              "    }\n",
              "\n",
              "    [theme=dark] .colab-df-convert:hover {\n",
              "      background-color: #434B5C;\n",
              "      box-shadow: 0px 1px 3px 1px rgba(0, 0, 0, 0.15);\n",
              "      filter: drop-shadow(0px 1px 2px rgba(0, 0, 0, 0.3));\n",
              "      fill: #FFFFFF;\n",
              "    }\n",
              "  </style>\n",
              "\n",
              "    <script>\n",
              "      const buttonEl =\n",
              "        document.querySelector('#df-f89eba9c-278d-4cb9-8454-16974f656f6e button.colab-df-convert');\n",
              "      buttonEl.style.display =\n",
              "        google.colab.kernel.accessAllowed ? 'block' : 'none';\n",
              "\n",
              "      async function convertToInteractive(key) {\n",
              "        const element = document.querySelector('#df-f89eba9c-278d-4cb9-8454-16974f656f6e');\n",
              "        const dataTable =\n",
              "          await google.colab.kernel.invokeFunction('convertToInteractive',\n",
              "                                                    [key], {});\n",
              "        if (!dataTable) return;\n",
              "\n",
              "        const docLinkHtml = 'Like what you see? Visit the ' +\n",
              "          '<a target=\"_blank\" href=https://colab.research.google.com/notebooks/data_table.ipynb>data table notebook</a>'\n",
              "          + ' to learn more about interactive tables.';\n",
              "        element.innerHTML = '';\n",
              "        dataTable['output_type'] = 'display_data';\n",
              "        await google.colab.output.renderOutput(dataTable, element);\n",
              "        const docLink = document.createElement('div');\n",
              "        docLink.innerHTML = docLinkHtml;\n",
              "        element.appendChild(docLink);\n",
              "      }\n",
              "    </script>\n",
              "  </div>\n",
              "\n",
              "\n",
              "<div id=\"df-a66b0183-f3a3-4f0f-99cc-dfa4a25c4317\">\n",
              "  <button class=\"colab-df-quickchart\" onclick=\"quickchart('df-a66b0183-f3a3-4f0f-99cc-dfa4a25c4317')\"\n",
              "            title=\"Suggest charts.\"\n",
              "            style=\"display:none;\">\n",
              "\n",
              "<svg xmlns=\"http://www.w3.org/2000/svg\" height=\"24px\"viewBox=\"0 0 24 24\"\n",
              "     width=\"24px\">\n",
              "    <g>\n",
              "        <path d=\"M19 3H5c-1.1 0-2 .9-2 2v14c0 1.1.9 2 2 2h14c1.1 0 2-.9 2-2V5c0-1.1-.9-2-2-2zM9 17H7v-7h2v7zm4 0h-2V7h2v10zm4 0h-2v-4h2v4z\"/>\n",
              "    </g>\n",
              "</svg>\n",
              "  </button>\n",
              "\n",
              "<style>\n",
              "  .colab-df-quickchart {\n",
              "    background-color: #E8F0FE;\n",
              "    border: none;\n",
              "    border-radius: 50%;\n",
              "    cursor: pointer;\n",
              "    display: none;\n",
              "    fill: #1967D2;\n",
              "    height: 32px;\n",
              "    padding: 0 0 0 0;\n",
              "    width: 32px;\n",
              "  }\n",
              "\n",
              "  .colab-df-quickchart:hover {\n",
              "    background-color: #E2EBFA;\n",
              "    box-shadow: 0px 1px 2px rgba(60, 64, 67, 0.3), 0px 1px 3px 1px rgba(60, 64, 67, 0.15);\n",
              "    fill: #174EA6;\n",
              "  }\n",
              "\n",
              "  [theme=dark] .colab-df-quickchart {\n",
              "    background-color: #3B4455;\n",
              "    fill: #D2E3FC;\n",
              "  }\n",
              "\n",
              "  [theme=dark] .colab-df-quickchart:hover {\n",
              "    background-color: #434B5C;\n",
              "    box-shadow: 0px 1px 3px 1px rgba(0, 0, 0, 0.15);\n",
              "    filter: drop-shadow(0px 1px 2px rgba(0, 0, 0, 0.3));\n",
              "    fill: #FFFFFF;\n",
              "  }\n",
              "</style>\n",
              "\n",
              "  <script>\n",
              "    async function quickchart(key) {\n",
              "      const charts = await google.colab.kernel.invokeFunction(\n",
              "          'suggestCharts', [key], {});\n",
              "    }\n",
              "    (() => {\n",
              "      let quickchartButtonEl =\n",
              "        document.querySelector('#df-a66b0183-f3a3-4f0f-99cc-dfa4a25c4317 button');\n",
              "      quickchartButtonEl.style.display =\n",
              "        google.colab.kernel.accessAllowed ? 'block' : 'none';\n",
              "    })();\n",
              "  </script>\n",
              "</div>\n",
              "    </div>\n",
              "  </div>\n"
            ]
          },
          "metadata": {},
          "execution_count": 31
        }
      ],
      "source": [
        "#train_df_taskA=train_df.drop(['label_vector'], axis=1)\n",
        "train_df.head()"
      ]
    },
    {
      "cell_type": "code",
      "execution_count": 32,
      "metadata": {
        "colab": {
          "base_uri": "https://localhost:8080/"
        },
        "id": "dbYmF6Vcfyfg",
        "outputId": "a283095d-86fd-4028-9c83-98ae356b005b"
      },
      "outputs": [
        {
          "output_type": "stream",
          "name": "stdout",
          "text": [
            "Unique label test: True\n",
            "not sexist example count: True\n",
            "sexist example count: True\n"
          ]
        }
      ],
      "source": [
        "print(f\"Unique label test: {len(train_df['label_sexist'].unique()) == 2}\")\n",
        "print(f\"not sexist example count: {len(train_df[train_df['label_sexist']=='not sexist']) == 10602}\")\n",
        "print(f\"sexist example count: {len(train_df[train_df['label_sexist']=='sexist']) == 3398}\")\n"
      ]
    },
    {
      "cell_type": "code",
      "execution_count": 33,
      "metadata": {
        "id": "CQmSX4pifzIZ"
      },
      "outputs": [],
      "source": [
        "def preprocess_text(text: str) -> str:\n",
        "    \"\"\"\n",
        "    Function takes a raw text and performs the following processing steps:\n",
        "    1. Lower case all text\n",
        "    2. De-emoji the text\n",
        "    3. Remove all hashtags, mentions, and urls\n",
        "    4. Remove all non-alphabet characters except the followng punctuations: period, exclamation mark, and question mark\n",
        "    \"\"\"\n",
        "    text = text.lower()\n",
        "    text = emoji.demojize(text)\n",
        "    text = p.clean(text)\n",
        "\n",
        "    text = re.sub(r'[^a-z.!?]', ' ', text.replace('_','')).strip()\n",
        "\n",
        "    text = re.sub(r'\\s\\s+', ' ', text)\n",
        "    text = re.sub(r\"@[A-Za-z0-9]+\", ' ', text)\n",
        "    text = re.sub(r\"https?://[A-Za-z0-9./]+\", ' ', text)\n",
        "    text = re.sub(r\"[^a-zA-z.!?'0-9]\", ' ', text)\n",
        "    text = re.sub('\\t', ' ',  text)\n",
        "    text = re.sub(r\" +\", ' ', text)\n",
        "    text=re.sub(r'[^\\w\\s]','',text)\n",
        "    text=text.replace(\"[URL]\",\"\")\n",
        "    text=text.replace(\"[USER]\",\"\")\n",
        "    text=re.sub(r\"[â€™ºðŸ‡˜Žµ±¤£‘Œ”œ]\",\"\",text)\n",
        "\n",
        "    return text\n",
        "\n",
        "train_df[\"text\"] = train_df[\"text\"].apply(preprocess_text)\n"
      ]
    },
    {
      "cell_type": "code",
      "execution_count": 34,
      "metadata": {
        "id": "78CXqNXUf1bh"
      },
      "outputs": [],
      "source": [
        "#Removing the square brackets\n",
        "def remove_between_square_brackets(text):\n",
        "    return re.sub('\\[[^]]*\\]', '', text)\n",
        "\n",
        "#Removing the noisy text\n",
        "def denoise_text(text):\n",
        "\n",
        "    text = remove_between_square_brackets(text)\n",
        "    return text"
      ]
    },
    {
      "cell_type": "code",
      "execution_count": 35,
      "metadata": {
        "id": "5y1sbQ5_f3zn"
      },
      "outputs": [],
      "source": [
        "train_df['text']=train_df['text'].apply(denoise_text)"
      ]
    },
    {
      "cell_type": "code",
      "source": [
        "import matplotlib.pyplot as plt\n",
        "\n",
        "freq=train_df['label_sexist'].value_counts().to_dict()\n",
        "print(freq)\n",
        "\n",
        "data = freq\n",
        "types = list(data.keys())\n",
        "frequency = list(data.values())\n",
        "\n",
        "fig = plt.figure(figsize = (10, 5))\n",
        "# creating the bar plot\n",
        "plt.bar(types, frequency, color ='maroon',width = 0.3)\n",
        "plt.xlabel(\"Labels\")\n",
        "plt.ylabel(\"Frequency\")\n",
        "plt.title(\"Labels v/s Frequency\")\n",
        "plt.tight_layout()\n",
        "plt.show()"
      ],
      "metadata": {
        "colab": {
          "base_uri": "https://localhost:8080/",
          "height": 525
        },
        "id": "WWx60T7SULDP",
        "outputId": "c876b1e3-0ceb-48cb-f7f2-11e92028d353"
      },
      "execution_count": 36,
      "outputs": [
        {
          "output_type": "stream",
          "name": "stdout",
          "text": [
            "{'not sexist': 10602, 'sexist': 3398}\n"
          ]
        },
        {
          "output_type": "display_data",
          "data": {
            "text/plain": [
              "<Figure size 1000x500 with 1 Axes>"
            ],
            "image/png": "[encoded data removed]"
          },
          "metadata": {}
        }
      ]
    },
    {
      "cell_type": "code",
      "execution_count": 37,
      "metadata": {
        "id": "mmPr8lIPf6Ck"
      },
      "outputs": [],
      "source": [
        "\n",
        "# using the train_test_split to split the data into training, validation, and\n",
        "# test datasets\n",
        "train, val = train_test_split(train_df, test_size = 0.3, random_state = 2023, stratify = train_df.label_sexist)\n",
        "val, test = train_test_split(val, test_size = 0.5, random_state = 2023, stratify = val.label_sexist)"
      ]
    },
    {
      "cell_type": "code",
      "execution_count": 38,
      "metadata": {
        "id": "3Ul1-qSfgJJf"
      },
      "outputs": [],
      "source": [
        "train[\"label_sexist\"] = train[\"label_sexist\"].replace({\"not sexist\": 0, \"sexist\": 1}).to_list()\n",
        "val[\"label_sexist\"] = val[\"label_sexist\"].replace({\"not sexist\": 0, \"sexist\": 1}).to_list()\n",
        "test[\"label_sexist\"] = test[\"label_sexist\"].replace({\"not sexist\": 0, \"sexist\": 1}).to_list()"
      ]
    },
    {
      "cell_type": "code",
      "execution_count": 39,
      "metadata": {
        "id": "9nqIfpsegWYG"
      },
      "outputs": [],
      "source": [
        "from transformers import ElectraTokenizer, ElectraForSequenceClassification, Trainer, TrainingArguments\n",
        "from transformers import DebertaTokenizer, DebertaModel\n",
        "import torch\n",
        "\n",
        "X_train = train[\"text\"].tolist()\n",
        "y_train = train[\"label_sexist\"].tolist()\n",
        "\n",
        "X_test = test[\"text\"].tolist()\n",
        "y_test = test[\"label_sexist\"].tolist()\n",
        "\n",
        "X_val = val[\"text\"].tolist()\n",
        "y_val = val[\"label_sexist\"].tolist()"
      ]
    },
    {
      "cell_type": "markdown",
      "source": [
        "### Binary Ensemble"
      ],
      "metadata": {
        "id": "y_sae2p8LU-T"
      }
    },
    {
      "cell_type": "code",
      "source": [
        "from sklearn.ensemble import VotingClassifier\n",
        "\n",
        "# Load the trained ELECTRA model\n",
        "electra_tokenizer = ElectraTokenizer.from_pretrained('google/electra-small-discriminator')\n",
        "loaded_electra_model = ElectraForSequenceClassification.from_pretrained('google/electra-small-discriminator')\n",
        "loaded_electra_model.load_state_dict(torch.load('/content/drive/MyDrive/Colab Notebooks/Masters thesis/electraModelA.pth'))\n",
        "loaded_electra_model.eval()\n",
        "\n",
        "# Load the trained DeBERTa model\n",
        "deberta_tokenizer = DebertaTokenizer.from_pretrained('microsoft/deberta-base')\n",
        "loaded_deberta_model = DebertaForSequenceClassification.from_pretrained('microsoft/deberta-base')\n",
        "loaded_deberta_model.load_state_dict(torch.load('/content/drive/MyDrive/Colab Notebooks/Masters thesis/debertaModelA.pth'))\n",
        "loaded_deberta_model.eval()\n",
        "\n",
        "def ensemble_predict(texts):\n",
        "    with torch.no_grad():\n",
        "        electra_input_ids = torch.tensor(electra_tokenizer.batch_encode_plus(texts, padding=True, truncation=True, max_length=48)['input_ids'])\n",
        "        electra_predictions = loaded_electra_model(electra_input_ids).logits\n",
        "\n",
        "        deberta_input_ids = torch.tensor(deberta_tokenizer.batch_encode_plus(texts, padding=True, truncation=True, max_length=48)['input_ids'])\n",
        "        deberta_predictions = loaded_deberta_model(deberta_input_ids).logits\n",
        "\n",
        "        ensemble_predictions = np.argmax((electra_predictions + deberta_predictions) / 2, axis=1)\n",
        "\n",
        "    return ensemble_predictions\n",
        "\n",
        "# Test ensemble predictions\n",
        "#test_texts = test[\"text\"].tolist()\n",
        "ensemble_predictions_taskA = ensemble_predict(X_test)"
      ],
      "metadata": {
        "colab": {
          "base_uri": "https://localhost:8080/"
        },
        "id": "3tn78IPrD_Cf",
        "outputId": "f7ffde1a-1278-4ca0-8447-4c6d841da8a6"
      },
      "execution_count": 40,
      "outputs": [
        {
          "output_type": "stream",
          "name": "stderr",
          "text": [
            "Some weights of ElectraForSequenceClassification were not initialized from the model checkpoint at google/electra-small-discriminator and are newly initialized: ['classifier.out_proj.bias', 'classifier.out_proj.weight', 'classifier.dense.bias', 'classifier.dense.weight']\n",
            "You should probably TRAIN this model on a down-stream task to be able to use it for predictions and inference.\n",
            "Some weights of DebertaForSequenceClassification were not initialized from the model checkpoint at microsoft/deberta-base and are newly initialized: ['pooler.dense.bias', 'classifier.weight', 'pooler.dense.weight', 'classifier.bias']\n",
            "You should probably TRAIN this model on a down-stream task to be able to use it for predictions and inference.\n"
          ]
        }
      ]
    },
    {
      "cell_type": "code",
      "source": [
        "print(classification_report(y_test,ensemble_predictions_taskA))"
      ],
      "metadata": {
        "colab": {
          "base_uri": "https://localhost:8080/"
        },
        "id": "e9FsEFj7FM_T",
        "outputId": "8d1429ec-5b68-42f7-e73b-f53cc426c365"
      },
      "execution_count": 41,
      "outputs": [
        {
          "output_type": "stream",
          "name": "stdout",
          "text": [
            "              precision    recall  f1-score   support\n",
            "\n",
            "           0       0.84      0.98      0.90      1590\n",
            "           1       0.87      0.41      0.56       510\n",
            "\n",
            "    accuracy                           0.84      2100\n",
            "   macro avg       0.85      0.70      0.73      2100\n",
            "weighted avg       0.85      0.84      0.82      2100\n",
            "\n"
          ]
        }
      ]
    },
    {
      "cell_type": "code",
      "execution_count": 42,
      "metadata": {
        "colab": {
          "base_uri": "https://localhost:8080/",
          "height": 206
        },
        "id": "BSnsQuUIlNzA",
        "outputId": "ba07f9ac-063f-4ac8-a683-3a0c40ed9249"
      },
      "outputs": [
        {
          "output_type": "execute_result",
          "data": {
            "text/plain": [
              "                   rewire_id  \\\n",
              "8   sexism2022_english-10142   \n",
              "11    sexism2022_english-760   \n",
              "17   sexism2022_english-1108   \n",
              "18  sexism2022_english-10099   \n",
              "19  sexism2022_english-10014   \n",
              "\n",
              "                                                 text label_sexist  \\\n",
              "8   just the inside of your wallet cash bank cards...       sexist   \n",
              "11  they get the initial chance because they are a...       sexist   \n",
              "17                     ugly chicks a pussy is a pussy       sexist   \n",
              "18  fuck her off with a nine mm this is what you g...       sexist   \n",
              "19  how about i talk shit to an idiot like you are...       sexist   \n",
              "\n",
              "                              label_category  \n",
              "8                              2. derogation  \n",
              "11                             2. derogation  \n",
              "17                             2. derogation  \n",
              "18  1. threats, plans to harm and incitement  \n",
              "19                              3. animosity  "
            ],
            "text/html": [
              "\n",
              "  <div id=\"df-63f1c612-f2eb-4eda-a615-6746f57eadaa\" class=\"colab-df-container\">\n",
              "    <div>\n",
              "<style scoped>\n",
              "    .dataframe tbody tr th:only-of-type {\n",
              "        vertical-align: middle;\n",
              "    }\n",
              "\n",
              "    .dataframe tbody tr th {\n",
              "        vertical-align: top;\n",
              "    }\n",
              "\n",
              "    .dataframe thead th {\n",
              "        text-align: right;\n",
              "    }\n",
              "</style>\n",
              "<table border=\"1\" class=\"dataframe\">\n",
              "  <thead>\n",
              "    <tr style=\"text-align: right;\">\n",
              "      <th></th>\n",
              "      <th>rewire_id</th>\n",
              "      <th>text</th>\n",
              "      <th>label_sexist</th>\n",
              "      <th>label_category</th>\n",
              "    </tr>\n",
              "  </thead>\n",
              "  <tbody>\n",
              "    <tr>\n",
              "      <th>8</th>\n",
              "      <td>sexism2022_english-10142</td>\n",
              "      <td>just the inside of your wallet cash bank cards...</td>\n",
              "      <td>sexist</td>\n",
              "      <td>2. derogation</td>\n",
              "    </tr>\n",
              "    <tr>\n",
              "      <th>11</th>\n",
              "      <td>sexism2022_english-760</td>\n",
              "      <td>they get the initial chance because they are a...</td>\n",
              "      <td>sexist</td>\n",
              "      <td>2. derogation</td>\n",
              "    </tr>\n",
              "    <tr>\n",
              "      <th>17</th>\n",
              "      <td>sexism2022_english-1108</td>\n",
              "      <td>ugly chicks a pussy is a pussy</td>\n",
              "      <td>sexist</td>\n",
              "      <td>2. derogation</td>\n",
              "    </tr>\n",
              "    <tr>\n",
              "      <th>18</th>\n",
              "      <td>sexism2022_english-10099</td>\n",
              "      <td>fuck her off with a nine mm this is what you g...</td>\n",
              "      <td>sexist</td>\n",
              "      <td>1. threats, plans to harm and incitement</td>\n",
              "    </tr>\n",
              "    <tr>\n",
              "      <th>19</th>\n",
              "      <td>sexism2022_english-10014</td>\n",
              "      <td>how about i talk shit to an idiot like you are...</td>\n",
              "      <td>sexist</td>\n",
              "      <td>3. animosity</td>\n",
              "    </tr>\n",
              "  </tbody>\n",
              "</table>\n",
              "</div>\n",
              "    <div class=\"colab-df-buttons\">\n",
              "\n",
              "  <div class=\"colab-df-container\">\n",
              "    <button class=\"colab-df-convert\" onclick=\"convertToInteractive('df-63f1c612-f2eb-4eda-a615-6746f57eadaa')\"\n",
              "            title=\"Convert this dataframe to an interactive table.\"\n",
              "            style=\"display:none;\">\n",
              "\n",
              "  <svg xmlns=\"http://www.w3.org/2000/svg\" height=\"24px\" viewBox=\"0 -960 960 960\">\n",
              "    <path d=\"M120-120v-720h720v720H120Zm60-500h600v-160H180v160Zm220 220h160v-160H400v160Zm0 220h160v-160H400v160ZM180-400h160v-160H180v160Zm440 0h160v-160H620v160ZM180-180h160v-160H180v160Zm440 0h160v-160H620v160Z\"/>\n",
              "  </svg>\n",
              "    </button>\n",
              "\n",
              "  <style>\n",
              "    .colab-df-container {\n",
              "      display:flex;\n",
              "      gap: 12px;\n",
              "    }\n",
              "\n",
              "    .colab-df-convert {\n",
              "      background-color: #E8F0FE;\n",
              "      border: none;\n",
              "      border-radius: 50%;\n",
              "      cursor: pointer;\n",
              "      display: none;\n",
              "      fill: #1967D2;\n",
              "      height: 32px;\n",
              "      padding: 0 0 0 0;\n",
              "      width: 32px;\n",
              "    }\n",
              "\n",
              "    .colab-df-convert:hover {\n",
              "      background-color: #E2EBFA;\n",
              "      box-shadow: 0px 1px 2px rgba(60, 64, 67, 0.3), 0px 1px 3px 1px rgba(60, 64, 67, 0.15);\n",
              "      fill: #174EA6;\n",
              "    }\n",
              "\n",
              "    .colab-df-buttons div {\n",
              "      margin-bottom: 4px;\n",
              "    }\n",
              "\n",
              "    [theme=dark] .colab-df-convert {\n",
              "      background-color: #3B4455;\n",
              "      fill: #D2E3FC;\n",
              "    }\n",
              "\n",
              "    [theme=dark] .colab-df-convert:hover {\n",
              "      background-color: #434B5C;\n",
              "      box-shadow: 0px 1px 3px 1px rgba(0, 0, 0, 0.15);\n",
              "      filter: drop-shadow(0px 1px 2px rgba(0, 0, 0, 0.3));\n",
              "      fill: #FFFFFF;\n",
              "    }\n",
              "  </style>\n",
              "\n",
              "    <script>\n",
              "      const buttonEl =\n",
              "        document.querySelector('#df-63f1c612-f2eb-4eda-a615-6746f57eadaa button.colab-df-convert');\n",
              "      buttonEl.style.display =\n",
              "        google.colab.kernel.accessAllowed ? 'block' : 'none';\n",
              "\n",
              "      async function convertToInteractive(key) {\n",
              "        const element = document.querySelector('#df-63f1c612-f2eb-4eda-a615-6746f57eadaa');\n",
              "        const dataTable =\n",
              "          await google.colab.kernel.invokeFunction('convertToInteractive',\n",
              "                                                    [key], {});\n",
              "        if (!dataTable) return;\n",
              "\n",
              "        const docLinkHtml = 'Like what you see? Visit the ' +\n",
              "          '<a target=\"_blank\" href=https://colab.research.google.com/notebooks/data_table.ipynb>data table notebook</a>'\n",
              "          + ' to learn more about interactive tables.';\n",
              "        element.innerHTML = '';\n",
              "        dataTable['output_type'] = 'display_data';\n",
              "        await google.colab.output.renderOutput(dataTable, element);\n",
              "        const docLink = document.createElement('div');\n",
              "        docLink.innerHTML = docLinkHtml;\n",
              "        element.appendChild(docLink);\n",
              "      }\n",
              "    </script>\n",
              "  </div>\n",
              "\n",
              "\n",
              "<div id=\"df-4707954a-9c29-4434-858a-5c7a57365feb\">\n",
              "  <button class=\"colab-df-quickchart\" onclick=\"quickchart('df-4707954a-9c29-4434-858a-5c7a57365feb')\"\n",
              "            title=\"Suggest charts.\"\n",
              "            style=\"display:none;\">\n",
              "\n",
              "<svg xmlns=\"http://www.w3.org/2000/svg\" height=\"24px\"viewBox=\"0 0 24 24\"\n",
              "     width=\"24px\">\n",
              "    <g>\n",
              "        <path d=\"M19 3H5c-1.1 0-2 .9-2 2v14c0 1.1.9 2 2 2h14c1.1 0 2-.9 2-2V5c0-1.1-.9-2-2-2zM9 17H7v-7h2v7zm4 0h-2V7h2v10zm4 0h-2v-4h2v4z\"/>\n",
              "    </g>\n",
              "</svg>\n",
              "  </button>\n",
              "\n",
              "<style>\n",
              "  .colab-df-quickchart {\n",
              "    background-color: #E8F0FE;\n",
              "    border: none;\n",
              "    border-radius: 50%;\n",
              "    cursor: pointer;\n",
              "    display: none;\n",
              "    fill: #1967D2;\n",
              "    height: 32px;\n",
              "    padding: 0 0 0 0;\n",
              "    width: 32px;\n",
              "  }\n",
              "\n",
              "  .colab-df-quickchart:hover {\n",
              "    background-color: #E2EBFA;\n",
              "    box-shadow: 0px 1px 2px rgba(60, 64, 67, 0.3), 0px 1px 3px 1px rgba(60, 64, 67, 0.15);\n",
              "    fill: #174EA6;\n",
              "  }\n",
              "\n",
              "  [theme=dark] .colab-df-quickchart {\n",
              "    background-color: #3B4455;\n",
              "    fill: #D2E3FC;\n",
              "  }\n",
              "\n",
              "  [theme=dark] .colab-df-quickchart:hover {\n",
              "    background-color: #434B5C;\n",
              "    box-shadow: 0px 1px 3px 1px rgba(0, 0, 0, 0.15);\n",
              "    filter: drop-shadow(0px 1px 2px rgba(0, 0, 0, 0.3));\n",
              "    fill: #FFFFFF;\n",
              "  }\n",
              "</style>\n",
              "\n",
              "  <script>\n",
              "    async function quickchart(key) {\n",
              "      const charts = await google.colab.kernel.invokeFunction(\n",
              "          'suggestCharts', [key], {});\n",
              "    }\n",
              "    (() => {\n",
              "      let quickchartButtonEl =\n",
              "        document.querySelector('#df-4707954a-9c29-4434-858a-5c7a57365feb button');\n",
              "      quickchartButtonEl.style.display =\n",
              "        google.colab.kernel.accessAllowed ? 'block' : 'none';\n",
              "    })();\n",
              "  </script>\n",
              "</div>\n",
              "    </div>\n",
              "  </div>\n"
            ]
          },
          "metadata": {},
          "execution_count": 42
        }
      ],
      "source": [
        "train_dfB=train_df.drop(['label_vector'], axis=1)\n",
        "train_dfB.drop(train_dfB[train_dfB['label_category'] == 'none'].index, inplace = True)\n",
        "train_dfB.head()"
      ]
    },
    {
      "cell_type": "code",
      "source": [
        "import matplotlib.pyplot as plt\n",
        "\n",
        "freq=train_dfB['label_category'].value_counts().to_dict()\n",
        "print(freq)\n",
        "\n",
        "data = freq\n",
        "types = ['derogation', 'animosity', 'prejudiced discussions', 'threats, plans to harm and incitement']\n",
        "frequency = list(data.values())\n",
        "\n",
        "fig = plt.figure(figsize = (10, 5))\n",
        "# creating the bar plot\n",
        "plt.bar(types, frequency, color ='maroon',width = 0.3)\n",
        "plt.xlabel(\"Labels\")\n",
        "plt.ylabel(\"Frequency\")\n",
        "plt.title(\"Labels v/s Frequency\")\n",
        "plt.tight_layout()\n",
        "plt.show()"
      ],
      "metadata": {
        "colab": {
          "base_uri": "https://localhost:8080/",
          "height": 545
        },
        "id": "SznpBsqkSDLs",
        "outputId": "4ea4aebe-c98d-4b19-fb43-3e5974fdc955"
      },
      "execution_count": 43,
      "outputs": [
        {
          "output_type": "stream",
          "name": "stdout",
          "text": [
            "{'2. derogation': 1590, '3. animosity': 1165, '4. prejudiced discussions': 333, '1. threats, plans to harm and incitement': 310}\n"
          ]
        },
        {
          "output_type": "display_data",
          "data": {
            "text/plain": [
              "<Figure size 1000x500 with 1 Axes>"
            ],
            "image/png": "[encoded data removed]"
          },
          "metadata": {}
        }
      ]
    },
    {
      "cell_type": "code",
      "execution_count": 44,
      "metadata": {
        "id": "6Wzi1qUbgYp3"
      },
      "outputs": [],
      "source": [
        "trainB, valB = train_test_split(train_dfB, test_size = 0.3, random_state = 2023, stratify = train_dfB.label_category)\n",
        "valB, testB = train_test_split(valB, test_size = 0.5, random_state = 2023, stratify = valB.label_category)"
      ]
    },
    {
      "cell_type": "code",
      "execution_count": 45,
      "metadata": {
        "id": "JX2TaRCcgOT9"
      },
      "outputs": [],
      "source": [
        "label_map = {\n",
        "    \"1. threats, plans to harm and incitement\": 0,\n",
        "    \"2. derogation\": 1,\n",
        "    \"3. animosity\": 2,\n",
        "    \"4. prejudiced discussions\": 3\n",
        "}\n",
        "\n",
        "trainB[\"label_category\"] = trainB[\"label_category\"].map(label_map).tolist()\n",
        "valB[\"label_category\"] = valB[\"label_category\"].map(label_map).tolist()\n",
        "testB[\"label_category\"] = testB[\"label_category\"].map(label_map).tolist()"
      ]
    },
    {
      "cell_type": "code",
      "source": [
        "X_train_B = trainB[\"text\"].tolist()\n",
        "y_train_B = trainB[\"label_category\"].tolist()\n",
        "\n",
        "X_test_B = testB[\"text\"].tolist()\n",
        "y_test_B = testB[\"label_category\"].tolist()\n",
        "\n",
        "X_val_B = valB[\"text\"].tolist()\n",
        "y_val_B = valB[\"label_category\"].tolist()"
      ],
      "metadata": {
        "id": "44yP72ZxHxf1"
      },
      "execution_count": 46,
      "outputs": []
    },
    {
      "cell_type": "markdown",
      "source": [
        "### Multi-class Ensemble"
      ],
      "metadata": {
        "id": "idNMDRPQGPp7"
      }
    },
    {
      "cell_type": "code",
      "source": [
        "from sklearn.ensemble import VotingClassifier\n",
        "from transformers import DebertaTokenizer, DebertaForSequenceClassification\n",
        "from transformers import DistilBertTokenizer, DistilBertForSequenceClassification\n",
        "\n",
        "\n",
        "# Load the trained ELECTRA model\n",
        "num_categories = 4\n",
        "deberta_multi_tokenizer = DebertaTokenizer.from_pretrained('microsoft/deberta-base')\n",
        "loaded_multi_deberta_model = DebertaForSequenceClassification.from_pretrained('microsoft/deberta-base',num_labels=num_categories)\n",
        "loaded_multi_deberta_model.load_state_dict(torch.load('/content/drive/MyDrive/Colab Notebooks/Masters thesis/debertaModelB.pth'))\n",
        "loaded_multi_deberta_model.eval()\n",
        "\n",
        "# Load the trained DeBERTa model\n",
        "multi_distilbert_tokenizer = DistilBertTokenizer.from_pretrained(\"distilbert-base-uncased\")\n",
        "loaded_multi_distilbert_model = DistilBertForSequenceClassification.from_pretrained(\"distilbert-base-uncased\",num_labels=num_categories)\n",
        "loaded_multi_distilbert_model.load_state_dict(torch.load('/content/drive/MyDrive/Colab Notebooks/Masters thesis/distilbertModelB.pth'))\n",
        "loaded_multi_distilbert_model.eval()\n",
        "\n",
        "def ensemble_predict_multi(texts):\n",
        "    with torch.no_grad():\n",
        "        distilbert_input_ids = torch.tensor(multi_distilbert_tokenizer.batch_encode_plus(texts, padding=True, truncation=True, max_length=48)['input_ids'])\n",
        "        distilbert_predictions = loaded_multi_distilbert_model(distilbert_input_ids).logits\n",
        "\n",
        "        deberta_multi_input_ids = torch.tensor(multi_distilbert_tokenizer.batch_encode_plus(texts, padding=True, truncation=True, max_length=48)['input_ids'])\n",
        "        deberta_multi_predictions = loaded_multi_deberta_model(deberta_multi_input_ids).logits\n",
        "\n",
        "        ensemble_predictions = np.argmax((distilbert_predictions + deberta_multi_predictions) / 2, axis=1)\n",
        "\n",
        "    return ensemble_predictions\n",
        "\n",
        "# Test ensemble predictions\n",
        "#test_texts = test[\"text\"].tolist()\n",
        "ensemble_predictions_taskB = ensemble_predict_multi(X_test_B)"
      ],
      "metadata": {
        "colab": {
          "base_uri": "https://localhost:8080/"
        },
        "id": "7uTDA0D9GTbe",
        "outputId": "7003494b-5492-4775-9306-c881a1ce6bc4"
      },
      "execution_count": 47,
      "outputs": [
        {
          "output_type": "stream",
          "name": "stderr",
          "text": [
            "Some weights of DebertaForSequenceClassification were not initialized from the model checkpoint at microsoft/deberta-base and are newly initialized: ['pooler.dense.bias', 'classifier.weight', 'pooler.dense.weight', 'classifier.bias']\n",
            "You should probably TRAIN this model on a down-stream task to be able to use it for predictions and inference.\n",
            "Some weights of DistilBertForSequenceClassification were not initialized from the model checkpoint at distilbert-base-uncased and are newly initialized: ['classifier.bias', 'classifier.weight', 'pre_classifier.bias', 'pre_classifier.weight']\n",
            "You should probably TRAIN this model on a down-stream task to be able to use it for predictions and inference.\n"
          ]
        }
      ]
    },
    {
      "cell_type": "code",
      "source": [
        "print(classification_report(y_test_B, ensemble_predictions_taskB))"
      ],
      "metadata": {
        "colab": {
          "base_uri": "https://localhost:8080/"
        },
        "id": "4ETxjek0HPeu",
        "outputId": "cdd4aca4-03d5-4bc0-fa98-6e299423ea6f"
      },
      "execution_count": 48,
      "outputs": [
        {
          "output_type": "stream",
          "name": "stdout",
          "text": [
            "              precision    recall  f1-score   support\n",
            "\n",
            "           0       0.92      0.26      0.41        46\n",
            "           1       0.50      0.95      0.65       239\n",
            "           2       0.68      0.15      0.24       175\n",
            "           3       0.00      0.00      0.00        50\n",
            "\n",
            "    accuracy                           0.52       510\n",
            "   macro avg       0.53      0.34      0.33       510\n",
            "weighted avg       0.55      0.52      0.43       510\n",
            "\n"
          ]
        }
      ]
    },
    {
      "cell_type": "markdown",
      "metadata": {
        "id": "6O1LUxzUvuC0"
      },
      "source": [
        "### Main Model Architecture"
      ]
    },
    {
      "cell_type": "code",
      "source": [
        "#Prediction Function\n",
        "def predict_with_model(model, tokenizer, texts):\n",
        "    with torch.no_grad():\n",
        "        inputs_ids = torch.tensor(tokenizer.batch_encode_plus(texts, padding=True, truncation=True, max_length=48)['input_ids'])\n",
        "        outputs = model(inputs_ids).logits\n",
        "    return outputs\n",
        "\n",
        "# Ensemble Function\n",
        "def ensemble_predictions(logits1, logits2):\n",
        "    return (logits1 + logits2) / 2\n",
        "\n",
        "# Prediction Pipeline\n",
        "def hierarchical_prediction(texts):\n",
        "    # Binary Classification\n",
        "    texts = [texts]\n",
        "    electra_logits = predict_with_model(loaded_electra_model, electra_tokenizer, texts)\n",
        "    deberta_logits = predict_with_model(loaded_deberta_model, deberta_tokenizer, texts)\n",
        "    ensemble_bin_logits = ensemble_predictions(electra_logits, deberta_logits)\n",
        "    ensemble_bin_probs = F.softmax(ensemble_bin_logits, dim=1)\n",
        "    #print(\"ensemble_bin_probs --> \",ensemble_bin_probs)\n",
        "    binary_predictions = (ensemble_bin_probs[:, 1] > 0.5).int()\n",
        "    binary_prediction = binary_predictions[0].item()\n",
        "\n",
        "    # If Non-Sexist, return\n",
        "    if binary_prediction == 0:\n",
        "        return \"Non Sexist\"\n",
        "\n",
        "    # Multi-Class Classification for Sexist Comments\n",
        "    distilbert_multi_logits = predict_with_model(loaded_multi_distilbert_model, multi_distilbert_tokenizer, texts)\n",
        "    deberta_multi_logits = predict_with_model(loaded_multi_deberta_model, deberta_multi_tokenizer, texts)\n",
        "    ensemble_multi_logits = ensemble_predictions(distilbert_multi_logits, deberta_multi_logits)\n",
        "    multi_class_prediction = torch.argmax(ensemble_multi_logits, dim=1).item()\n",
        "\n",
        "    categories = [\"1. threats, plans to harm and incitement\", \"2. derogation\",\n",
        "                  \"3. animosity\",\"4. prejudiced discussions\"]\n",
        "    return f\"Sexist ({categories[multi_class_prediction]})\""
      ],
      "metadata": {
        "id": "_MSEDY1tydyt"
      },
      "execution_count": 49,
      "outputs": []
    },
    {
      "cell_type": "code",
      "source": [
        "print(f\"\\n===== Explainable Detection of Online Sexism ======\\n\")\n",
        "while True:\n",
        "  try:\n",
        "    print(f\"Response : {hierarchical_prediction(input('Enter a sectence : '))}\")\n",
        "    print(\"\")\n",
        "  except KeyboardInterrupt:\n",
        "    break\n",
        "  except ValueError:\n",
        "    print(\"Please enter a correct value - String\")\n",
        "  except Exception as e:\n",
        "    print(f\"Whoops ! Something went wrong : {e}\")\n",
        "    break"
      ],
      "metadata": {
        "colab": {
          "base_uri": "https://localhost:8080/"
        },
        "id": "5ftF-nXpJXbJ",
        "outputId": "9b3b9c53-6672-4abd-84af-3fcbb70d188d"
      },
      "execution_count": 50,
      "outputs": [
        {
          "output_type": "stream",
          "name": "stdout",
          "text": [
            "\n",
            "===== Explainable Detection of Online Sexism ======\n",
            "\n",
            "Enter a sectence : Hi, Have a lovely day!\n",
            "Response : Non Sexist\n",
            "\n",
            "Enter a sectence : Until she divorce rapes him\n",
            "Response : Non Sexist\n",
            "\n",
            "Enter a sectence : She is ugly as fuck in both though looks like a tranny on the right\n",
            "Response : Non Sexist\n",
            "\n",
            "Enter a sectence : I voted on that one. Fuck those BLM pussys\n",
            "Response : Sexist (3. animosity)\n",
            "\n",
            "Enter a sectence : I will punch that pussy\n",
            "Response : Sexist (1. threats, plans to harm and incitement)\n",
            "\n"
          ]
        }
      ]
    }
  ],
  "metadata": {
    "colab": {
      "provenance": [],
      "gpuType": "T4"
    },
    "kernelspec": {
      "display_name": "Python 3",
      "name": "python3"
    },
    "language_info": {
      "name": "python"
    },
    "accelerator": "GPU"
  },
  "nbformat": 4,
  "nbformat_minor": 0
}